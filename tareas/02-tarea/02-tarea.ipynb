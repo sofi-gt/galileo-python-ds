{
 "cells": [
  {
   "cell_type": "markdown",
   "metadata": {},
   "source": [
    "# Git - Control de Versiones\n",
    "*Sofía García Salas*\n",
    "\n",
    "*2021-03-02*\n",
    "\n",
    "***"
   ]
  },
  {
   "cell_type": "markdown",
   "metadata": {},
   "source": [
    "Estas son mis notas sobre la clase de MIT [The Missing Semester](https://missing.csail.mit.edu/2020/version-control/)."
   ]
  },
  {
   "cell_type": "markdown",
   "metadata": {},
   "source": [
    "## Control de versiones\n",
    "`Git` es un sistema de control de versiones que permite documentar los cambios a código u otro documentos y folders. También facilitan el trabajo en equipo.\n",
    "\n",
    "Estos sistemas almacenan la historia de cambios tomando una fotografía al estado de los archivos y folders. No solo tienen la historia de los cambios a estos archivos sino que también almacenan metadata (e.g. quién realizó un cambio, en qué momento).\n",
    "\n",
    "### Utilidad\n",
    "Sirve no solo en proyectos grandes, sino en proyecto personales para poder revisar versiones antiguos del código, ver por qué se cambio algo (viendo commit messages), trabajar en paralelo con distintas branches para el desarrollo, etc. "
   ]
  },
  {
   "cell_type": "markdown",
   "metadata": {},
   "source": [
    "### Git\n",
    "Se ha vuelto el sistema de control de versiones más popular.\n",
    "\n",
    "Se interfaz no es muy amigable con el usuario, por lo que el profesor recomienda empezar aprendiendo su diseño e ideas. Al entender esto, será más fácil utilizar la interfaz y resolver problemas."
   ]
  },
  {
   "cell_type": "markdown",
   "metadata": {},
   "source": [
    "## Modelo de datos de Git\n",
    "### Modelo de folders y archivos\n",
    "Es una colección de archivos y folders dentro de un directorio maestro.\n",
    "Un folder es denominado como `tree` y un archivo como `blob`.\n",
    "\n",
    "```\n",
    "root\n",
    "|-foo (tree)\n",
    "| |-bar.txt (blob)\n",
    "|-baz.txt\n",
    "\n",
    "```\n",
    "\n",
    "El folder `root`es el directorio al que se le está dando seguimiento.\n",
    "\n",
    "### Modelo de historia\n",
    "Una forma de crear un modelo de historia es tomar una fotografía de los folders y archivos en el directorio. La historia se vuelve una secuencia lineal de estas fotografías. Es muy similar a tener copias de folders con marcas de tiempo.\n",
    "\n",
    "Git utilizado un modelo más complejo llamado **Directed acyclic graph**. \n",
    "\n",
    "Con este modelo uno puede separar versiones (`fork`) para trabajar en ramas (`branches`) en paralelo sin interferencia; por ejemplo, trabajar es una nueva característica y en paralelo arreglar un desperfecto en el código en producción. \n",
    "Estas ramas después se pueden unir (`merge`) y la nueva fotografía tendrá como referencia las dos versiones que se unieron.\n",
    "\n"
   ]
  },
  {
   "source": [
    "![history](img/history.jpg)"
   ],
   "cell_type": "markdown",
   "metadata": {}
  },
  {
   "source": [
    "Es pseudocódigo, el modelo de archivos e historia de `Git`se puede explicar de la siguiente manera:\n",
    "\n",
    "**Tipos de estructuras:**\n",
    "```python\n",
    "type blob = array<byte>    # file = coleccion de bytes\n",
    "\n",
    "type tree = map<string, tree | blob> # folder = mapea un nombre de directorio a contenido (archivos o folders)\n",
    "\n",
    "type commit = struct{           # metadata con la información de la fotografía\n",
    "    parents: array<commit>\n",
    "    author: string\n",
    "    message: string\n",
    "    snapshot: tree  # esta es una referencia al objeto no el objeto en si\n",
    "```\n",
    "**Almacenamiento en disco:**los objetos son los que Git almacena en disco\n",
    "```python\n",
    "type object = blog | tree | commit\n",
    "\n",
    "objects = map<string, objects>\n",
    "\n",
    "# para almacenar en disco se utiliza el hash del objeto\n",
    "def store(o)\n",
    "    id = sha1(o) # hash del objeto\n",
    "    objects[id] = o\n",
    "\n",
    "}\n",
    "\n",
    "df load(id)\n",
    "    return objects[id]\n",
    "```\n",
    "**Referencias**:\n",
    "mapea referencias de un nombre legible para el humano con su hash respectivo\n",
    "```python\n",
    "references = map<string, string>\n",
    "```"
   ],
   "cell_type": "markdown",
   "metadata": {}
  },
  {
   "source": [
    "La historia y los hash son inmutables, pero las referencias sí se pueden cambiar.\n",
    "En forma general, todos los comandos de `Git` son manipulaciones de los datos de los *objetos* o de las *referencia*"
   ],
   "cell_type": "markdown",
   "metadata": {}
  },
  {
   "source": [
    "## Demostración\n",
    "\n",
    "Esta sera una demostración de cómo utilizar comandos de git, pero no de como hacer la inicializacion para no alterar el repositorio ya existente."
   ],
   "cell_type": "markdown",
   "metadata": {}
  },
  {
   "source": [
    "Al visualizar el directorio `.git` podemos `refs` y `objects` que son donde `Git` almacena la información de los repositorios."
   ],
   "cell_type": "markdown",
   "metadata": {}
  },
  {
   "cell_type": "code",
   "execution_count": 6,
   "metadata": {},
   "outputs": [
    {
     "output_type": "execute_result",
     "data": {
      "text/plain": [
       "['branches',\n",
       " 'config',\n",
       " 'description',\n",
       " 'HEAD',\n",
       " 'hooks',\n",
       " 'index',\n",
       " 'info',\n",
       " 'logs',\n",
       " 'objects',\n",
       " 'packed-refs',\n",
       " 'refs']"
      ]
     },
     "metadata": {},
     "execution_count": 6
    }
   ],
   "source": [
    "%sx ls ../../.git"
   ]
  },
  {
   "source": [
    "### git help\n",
    "El comando `git help` se puede utilizar para obtener información sobre `git`. También se puede utilizar `git help <comando>` para tener información adicional del comando específico."
   ],
   "cell_type": "markdown",
   "metadata": {}
  },
  {
   "cell_type": "code",
   "execution_count": 8,
   "metadata": {},
   "outputs": [
    {
     "output_type": "execute_result",
     "data": {
      "text/plain": [
       "['usage: git [--version] [--help] [-C <path>] [-c <name>=<value>]',\n",
       " '           [--exec-path[=<path>]] [--html-path] [--man-path] [--info-path]',\n",
       " '           [-p | --paginate | -P | --no-pager] [--no-replace-objects] [--bare]',\n",
       " '           [--git-dir=<path>] [--work-tree=<path>] [--namespace=<name>]',\n",
       " '           <command> [<args>]',\n",
       " '',\n",
       " 'These are common Git commands used in various situations:',\n",
       " '',\n",
       " 'start a working area (see also: git help tutorial)',\n",
       " '   clone             Clone a repository into a new directory',\n",
       " '   init              Create an empty Git repository or reinitialize an existing one',\n",
       " '',\n",
       " 'work on the current change (see also: git help everyday)',\n",
       " '   add               Add file contents to the index',\n",
       " '   mv                Move or rename a file, a directory, or a symlink',\n",
       " '   restore           Restore working tree files',\n",
       " '   rm                Remove files from the working tree and from the index',\n",
       " '   sparse-checkout   Initialize and modify the sparse-checkout',\n",
       " '',\n",
       " 'examine the history and state (see also: git help revisions)',\n",
       " '   bisect            Use binary search to find the commit that introduced a bug',\n",
       " '   diff              Show changes between commits, commit and working tree, etc',\n",
       " '   grep              Print lines matching a pattern',\n",
       " '   log               Show commit logs',\n",
       " '   show              Show various types of objects',\n",
       " '   status            Show the working tree status',\n",
       " '',\n",
       " 'grow, mark and tweak your common history',\n",
       " '   branch            List, create, or delete branches',\n",
       " '   commit            Record changes to the repository',\n",
       " '   merge             Join two or more development histories together',\n",
       " '   rebase            Reapply commits on top of another base tip',\n",
       " '   reset             Reset current HEAD to the specified state',\n",
       " '   switch            Switch branches',\n",
       " '   tag               Create, list, delete or verify a tag object signed with GPG',\n",
       " '',\n",
       " 'collaborate (see also: git help workflows)',\n",
       " '   fetch             Download objects and refs from another repository',\n",
       " '   pull              Fetch from and integrate with another repository or a local branch',\n",
       " '   push              Update remote refs along with associated objects',\n",
       " '',\n",
       " \"'git help -a' and 'git help -g' list available subcommands and some\",\n",
       " \"concept guides. See 'git help <command>' or 'git help <concept>'\",\n",
       " 'to read about a specific subcommand or concept.',\n",
       " \"See 'git help git' for an overview of the system.\"]"
      ]
     },
     "metadata": {},
     "execution_count": 8
    }
   ],
   "source": [
    "%sx git help"
   ]
  },
  {
   "source": [
    "### git status\n",
    "El comando `git status` se puede ver información de la historia y el estatus actual del repositorio."
   ],
   "cell_type": "markdown",
   "metadata": {}
  },
  {
   "source": [
    "%sx git status"
   ],
   "cell_type": "code",
   "metadata": {},
   "execution_count": 1,
   "outputs": [
    {
     "output_type": "execute_result",
     "data": {
      "text/plain": [
       "['On branch main',\n",
       " \"Your branch is up to date with 'origin/main'.\",\n",
       " '',\n",
       " 'nothing to commit, working tree clean']"
      ]
     },
     "metadata": {},
     "execution_count": 1
    }
   ]
  },
  {
   "source": [
    "El staging area es dónde le decimos a git qué cambios incluir en la próxima fotografía que tome.\n",
    "Podemos ver cómo cambia el status cuándo se crea un nuevo archivo:"
   ],
   "cell_type": "markdown",
   "metadata": {}
  },
  {
   "cell_type": "code",
   "execution_count": 2,
   "metadata": {},
   "outputs": [
    {
     "output_type": "execute_result",
     "data": {
      "text/plain": [
       "['On branch main',\n",
       " \"Your branch is up to date with 'origin/main'.\",\n",
       " '',\n",
       " 'Untracked files:',\n",
       " '  (use \"git add <file>...\" to include in what will be committed)',\n",
       " '\\tarchivo_ejemplo.txt',\n",
       " '',\n",
       " 'nothing added to commit but untracked files present (use \"git add\" to track)']"
      ]
     },
     "metadata": {},
     "execution_count": 2
    }
   ],
   "source": [
    "%sx echo 'archivo de ejemplo para git' > archivo_ejemplo.txt\n",
    "%sx git status"
   ]
  },
  {
   "source": [
    "### git add\n",
    "Usamos `git add` para empezar a llevar el tracking de un archivo.\n",
    "\n",
    "Podemos ver cómo el status cambia al agregarlo al tracking de git"
   ],
   "cell_type": "markdown",
   "metadata": {}
  },
  {
   "cell_type": "code",
   "execution_count": 3,
   "metadata": {},
   "outputs": [
    {
     "output_type": "execute_result",
     "data": {
      "text/plain": [
       "['On branch main',\n",
       " \"Your branch is up to date with 'origin/main'.\",\n",
       " '',\n",
       " 'Changes to be committed:',\n",
       " '  (use \"git restore --staged <file>...\" to unstage)',\n",
       " '\\tnew file:   archivo_ejemplo.txt',\n",
       " '']"
      ]
     },
     "metadata": {},
     "execution_count": 3
    }
   ],
   "source": [
    "%sx git add archivo_ejemplo.txt\n",
    "%sx git status"
   ]
  },
  {
   "source": [
    "### git commit\n",
    "Para tomar la fotografía, se utiliza el comando `git commit`"
   ],
   "cell_type": "markdown",
   "metadata": {}
  },
  {
   "cell_type": "code",
   "execution_count": 4,
   "metadata": {},
   "outputs": [
    {
     "output_type": "execute_result",
     "data": {
      "text/plain": [
       "['[main 3698a48] nuevo commit para archivo_ejemplo',\n",
       " ' 1 file changed, 1 insertion(+)',\n",
       " ' create mode 100644 tareas/02-tarea/archivo_ejemplo.txt']"
      ]
     },
     "metadata": {},
     "execution_count": 4
    }
   ],
   "source": [
    "%sx git commit"
   ]
  },
  {
   "source": [
    "### git log\n",
    "Se puede utilizar el comando `git log` para ver la historia de todos los cambios. Aquí utilizaré -1 para solo mostrar el último commit"
   ],
   "cell_type": "markdown",
   "metadata": {}
  },
  {
   "cell_type": "code",
   "execution_count": 5,
   "metadata": {},
   "outputs": [
    {
     "output_type": "execute_result",
     "data": {
      "text/plain": [
       "['commit 3698a489300c0cd4b2baa9ae7a7237e5c9626753',\n",
       " 'Author: Sofi GS <19873735+sofi-gt@users.noreply.github.com>',\n",
       " 'Date:   Sat Feb 6 14:16:37 2021 -0600',\n",
       " '',\n",
       " '    nuevo commit para archivo_ejemplo']"
      ]
     },
     "metadata": {},
     "execution_count": 5
    }
   ],
   "source": [
    "%sx git log -1"
   ]
  },
  {
   "source": [
    "### git cat-file\n",
    "Para ver el contenido de un commit se puede utilizar el comando `git cat-file` con el hash"
   ],
   "cell_type": "markdown",
   "metadata": {}
  },
  {
   "cell_type": "code",
   "execution_count": 6,
   "metadata": {},
   "outputs": [
    {
     "output_type": "execute_result",
     "data": {
      "text/plain": [
       "['tree 56e4e6215bca85188f3d6b9d504abf0f01507667',\n",
       " 'parent 946f83da08279b6d47ad9ef58562bf5b838dc313',\n",
       " 'author Sofi GS <19873735+sofi-gt@users.noreply.github.com> 1612634949 -0600',\n",
       " 'committer Sofi GS <19873735+sofi-gt@users.noreply.github.com> 1612634949 -0600',\n",
       " '',\n",
       " 'Agregar archivo de ejemplo']"
      ]
     },
     "metadata": {},
     "execution_count": 6
    }
   ],
   "source": [
    "%sx git cat-file -p 83644be"
   ]
  },
  {
   "source": [
    "Los comandos `git add` y `git commit` están separados para poder tener mayor flexibilidad y organización. Yo puedo decidir qué archivos se incluyen en cada commit"
   ],
   "cell_type": "markdown",
   "metadata": {}
  },
  {
   "source": [
    "### Otro ejemplo de staging"
   ],
   "cell_type": "markdown",
   "metadata": {}
  },
  {
   "cell_type": "code",
   "execution_count": 7,
   "metadata": {},
   "outputs": [
    {
     "output_type": "execute_result",
     "data": {
      "text/plain": [
       "[]"
      ]
     },
     "metadata": {},
     "execution_count": 7
    }
   ],
   "source": [
    "%sx echo \"una nueva linea\" >> archivo_ejemplo.txt"
   ]
  },
  {
   "cell_type": "code",
   "execution_count": 8,
   "metadata": {},
   "outputs": [
    {
     "output_type": "execute_result",
     "data": {
      "text/plain": [
       "['On branch main',\n",
       " \"Your branch is ahead of 'origin/main' by 1 commit.\",\n",
       " '  (use \"git push\" to publish your local commits)',\n",
       " '',\n",
       " 'Changes not staged for commit:',\n",
       " '  (use \"git add <file>...\" to update what will be committed)',\n",
       " '  (use \"git restore <file>...\" to discard changes in working directory)',\n",
       " '\\tmodified:   archivo_ejemplo.txt',\n",
       " '',\n",
       " 'no changes added to commit (use \"git add\" and/or \"git commit -a\")']"
      ]
     },
     "metadata": {},
     "execution_count": 8
    }
   ],
   "source": [
    "%sx git status"
   ]
  },
  {
   "cell_type": "code",
   "execution_count": 9,
   "metadata": {},
   "outputs": [
    {
     "output_type": "execute_result",
     "data": {
      "text/plain": [
       "['On branch main',\n",
       " \"Your branch is ahead of 'origin/main' by 1 commit.\",\n",
       " '  (use \"git push\" to publish your local commits)',\n",
       " '',\n",
       " 'Changes to be committed:',\n",
       " '  (use \"git restore --staged <file>...\" to unstage)',\n",
       " '\\tmodified:   archivo_ejemplo.txt',\n",
       " '']"
      ]
     },
     "metadata": {},
     "execution_count": 9
    }
   ],
   "source": [
    "%sx git add archivo_ejemplo.txt\n",
    "%sx git status"
   ]
  },
  {
   "cell_type": "code",
   "execution_count": 10,
   "metadata": {},
   "outputs": [
    {
     "output_type": "execute_result",
     "data": {
      "text/plain": [
       "['[main 398dac2] nuevo ejemplo, agregar una linea',\n",
       " ' 1 file changed, 1 insertion(+)']"
      ]
     },
     "metadata": {},
     "execution_count": 10
    }
   ],
   "source": [
    "%sx git commit"
   ]
  },
  {
   "source": [
    "También podemos visualizar los logs de forma gráfica utilizando las opciones `--graph` y `--decorate`."
   ],
   "cell_type": "markdown",
   "metadata": {}
  },
  {
   "cell_type": "code",
   "execution_count": 12,
   "metadata": {},
   "outputs": [
    {
     "output_type": "execute_result",
     "data": {
      "text/plain": [
       "['* commit 398dac27b64aeb9c30e958cb1ff7ecd1cd72114d (HEAD -> main)',\n",
       " '| Author: Sofi GS <19873735+sofi-gt@users.noreply.github.com>',\n",
       " '| Date:   Sat Feb 6 14:17:34 2021 -0600',\n",
       " '| ',\n",
       " '|     nuevo ejemplo, agregar una linea',\n",
       " '| ',\n",
       " '* commit 3698a489300c0cd4b2baa9ae7a7237e5c9626753',\n",
       " '| Author: Sofi GS <19873735+sofi-gt@users.noreply.github.com>',\n",
       " '| Date:   Sat Feb 6 14:16:37 2021 -0600',\n",
       " '| ',\n",
       " '|     nuevo commit para archivo_ejemplo']"
      ]
     },
     "metadata": {},
     "execution_count": 12
    }
   ],
   "source": [
    "%sx git log -2 --graph --decorate"
   ]
  },
  {
   "source": [
    " `main` es una referencia que se refiere al rama principal de desarrollo. Por convención se refiere a la versión más actualizada del repositorio.\n",
    "\n",
    " `HEAD` es una referencia especial que se refiere a dónde estás viendo actualmente. Usualmente es el último commit"
   ],
   "cell_type": "markdown",
   "metadata": {}
  },
  {
   "source": [
    "### git checkout\n",
    "`git checkout` permite cambiar el estado del directorio al estado que tenía un commit previo.\n",
    "Este mueve la referencia de `HEAD` al commit especificado y cambia los contenidos de los objetos a ese estado.\n",
    "\n",
    "También se puede utilizar `git checkout <nombre_archivo>` para descartar las modificaciones del archivo y dejarlo como aparece en `HEAD`"
   ],
   "cell_type": "markdown",
   "metadata": {}
  },
  {
   "cell_type": "code",
   "execution_count": 13,
   "metadata": {},
   "outputs": [
    {
     "output_type": "execute_result",
     "data": {
      "text/plain": [
       "[\"Note: switching to '3698a4893'.\",\n",
       " '',\n",
       " \"You are in 'detached HEAD' state. You can look around, make experimental\",\n",
       " 'changes and commit them, and you can discard any commits you make in this',\n",
       " 'state without impacting any branches by switching back to a branch.',\n",
       " '',\n",
       " 'If you want to create a new branch to retain commits you create, you may',\n",
       " 'do so (now or later) by using -c with the switch command. Example:',\n",
       " '',\n",
       " '  git switch -c <new-branch-name>',\n",
       " '',\n",
       " 'Or undo this operation with:',\n",
       " '',\n",
       " '  git switch -',\n",
       " '',\n",
       " 'Turn off this advice by setting config variable advice.detachedHead to false',\n",
       " '',\n",
       " 'HEAD is now at 3698a48 nuevo commit para archivo_ejemplo']"
      ]
     },
     "metadata": {},
     "execution_count": 13
    }
   ],
   "source": [
    "%sx git checkout 3698a4893"
   ]
  },
  {
   "source": [
    "Aquí podemos observar que no se muestra la nueva línea del archivo de ejemplo"
   ],
   "cell_type": "markdown",
   "metadata": {}
  },
  {
   "cell_type": "code",
   "execution_count": 14,
   "metadata": {},
   "outputs": [
    {
     "output_type": "execute_result",
     "data": {
      "text/plain": [
       "['archivo de ejemplo para git']"
      ]
     },
     "metadata": {},
     "execution_count": 14
    }
   ],
   "source": [
    "%sx cat archivo_ejemplo.txt"
   ]
  },
  {
   "cell_type": "code",
   "execution_count": 18,
   "metadata": {},
   "outputs": [
    {
     "output_type": "execute_result",
     "data": {
      "text/plain": [
       "['* commit 398dac27b64aeb9c30e958cb1ff7ecd1cd72114d (main)',\n",
       " '| Author: Sofi GS <19873735+sofi-gt@users.noreply.github.com>',\n",
       " '| Date:   Sat Feb 6 14:17:34 2021 -0600',\n",
       " '| ',\n",
       " '|     nuevo ejemplo, agregar una linea',\n",
       " '| ',\n",
       " '* commit 3698a489300c0cd4b2baa9ae7a7237e5c9626753 (HEAD)',\n",
       " '| Author: Sofi GS <19873735+sofi-gt@users.noreply.github.com>',\n",
       " '| Date:   Sat Feb 6 14:16:37 2021 -0600',\n",
       " '| ']"
      ]
     },
     "metadata": {},
     "execution_count": 18
    }
   ],
   "source": [
    "%sx git log --all --graph --decorate | head -n 10"
   ]
  },
  {
   "source": [
    "En este último log se puede ver que el `HEAD` no está en el último commit.\n",
    "Para regresar al último commit se puede utilizar `git checkout` utilizando la referencia `main`"
   ],
   "cell_type": "markdown",
   "metadata": {}
  },
  {
   "cell_type": "code",
   "execution_count": 19,
   "metadata": {},
   "outputs": [
    {
     "output_type": "execute_result",
     "data": {
      "text/plain": [
       "['Previous HEAD position was 3698a48 nuevo commit para archivo_ejemplo',\n",
       " \"Switched to branch 'main'\",\n",
       " \"Your branch is ahead of 'origin/main' by 2 commits.\",\n",
       " '  (use \"git push\" to publish your local commits)']"
      ]
     },
     "metadata": {},
     "execution_count": 19
    }
   ],
   "source": [
    "%sx git checkout main"
   ]
  },
  {
   "source": [
    "Ahora ya aparece la línea que habíamos agregado"
   ],
   "cell_type": "markdown",
   "metadata": {}
  },
  {
   "cell_type": "code",
   "execution_count": 20,
   "metadata": {},
   "outputs": [
    {
     "output_type": "execute_result",
     "data": {
      "text/plain": [
       "['archivo de ejemplo para git', 'una nueva linea']"
      ]
     },
     "metadata": {},
     "execution_count": 20
    }
   ],
   "source": [
    "%sx cat archivo_ejemplo.txt"
   ]
  },
  {
   "source": [
    "### git diff\n",
    "Muestra lo cambios que existen comparados con el commit anterior o con un commit especificado."
   ],
   "cell_type": "markdown",
   "metadata": {}
  },
  {
   "cell_type": "code",
   "execution_count": 21,
   "metadata": {},
   "outputs": [
    {
     "output_type": "execute_result",
     "data": {
      "text/plain": [
       "[]"
      ]
     },
     "metadata": {},
     "execution_count": 21
    }
   ],
   "source": [
    "%sx git diff archivo_ejemplo.txt"
   ]
  },
  {
   "source": [
    "Se puede ver que cambió un un commit específico a otro utilizando sus referencias o hash"
   ],
   "cell_type": "markdown",
   "metadata": {}
  },
  {
   "cell_type": "code",
   "execution_count": 22,
   "metadata": {},
   "outputs": [
    {
     "output_type": "execute_result",
     "data": {
      "text/plain": [
       "['diff --git a/tareas/02-tarea/archivo_ejemplo.txt b/tareas/02-tarea/archivo_ejemplo.txt',\n",
       " 'index baa80e8..20d7b20 100644',\n",
       " '--- a/tareas/02-tarea/archivo_ejemplo.txt',\n",
       " '+++ b/tareas/02-tarea/archivo_ejemplo.txt',\n",
       " '@@ -1 +1,2 @@',\n",
       " ' archivo de ejemplo para git',\n",
       " '+una nueva linea']"
      ]
     },
     "metadata": {},
     "execution_count": 22
    }
   ],
   "source": [
    "%sx git diff 3698a48930 HEAD archivo_ejemplo.txt"
   ]
  },
  {
   "source": [
    "## Branching y Merging"
   ],
   "cell_type": "markdown",
   "metadata": {}
  },
  {
   "source": [
    "Para demostrar la funcionalidad de branching utilizaremos un script de python. Vamos a agregar este script al tracking de git y realizando un commit"
   ],
   "cell_type": "markdown",
   "metadata": {}
  },
  {
   "cell_type": "code",
   "execution_count": 29,
   "metadata": {},
   "outputs": [
    {
     "output_type": "execute_result",
     "data": {
      "text/plain": [
       "['import sys',\n",
       " '',\n",
       " 'def default():',\n",
       " \"    print('hello')\",\n",
       " '',\n",
       " 'def main():',\n",
       " '    default()',\n",
       " '',\n",
       " \"if __name__ == '__main__':\",\n",
       " '    main()']"
      ]
     },
     "metadata": {},
     "execution_count": 29
    }
   ],
   "source": [
    "%sx cat programa-ejemplo.py"
   ]
  },
  {
   "cell_type": "code",
   "execution_count": 30,
   "metadata": {},
   "outputs": [
    {
     "output_type": "execute_result",
     "data": {
      "text/plain": [
       "['On branch main',\n",
       " \"Your branch is up to date with 'origin/main'.\",\n",
       " '',\n",
       " 'Untracked files:',\n",
       " '  (use \"git add <file>...\" to include in what will be committed)',\n",
       " '\\tprograma-ejemplo.py',\n",
       " '',\n",
       " 'nothing added to commit but untracked files present (use \"git add\" to track)']"
      ]
     },
     "metadata": {},
     "execution_count": 30
    }
   ],
   "source": [
    "%sx git status"
   ]
  },
  {
   "cell_type": "code",
   "execution_count": 31,
   "metadata": {},
   "outputs": [
    {
     "output_type": "execute_result",
     "data": {
      "text/plain": [
       "[]"
      ]
     },
     "metadata": {},
     "execution_count": 31
    }
   ],
   "source": [
    "%sx git add programa-ejemplo.py"
   ]
  },
  {
   "cell_type": "code",
   "execution_count": 32,
   "metadata": {},
   "outputs": [
    {
     "output_type": "execute_result",
     "data": {
      "text/plain": [
       "['[main 73c55b6] programa ejemplo branching segundo intento',\n",
       " ' 1 file changed, 10 insertions(+)',\n",
       " ' create mode 100644 tareas/02-tarea/programa-ejemplo.py']"
      ]
     },
     "metadata": {},
     "execution_count": 32
    }
   ],
   "source": [
    "%sx git commit"
   ]
  },
  {
   "source": [
    "### git branch\n",
    "Lista todos las branches presentes en el repositorio."
   ],
   "cell_type": "markdown",
   "metadata": {}
  },
  {
   "source": [
    "%sx git branch -vv"
   ],
   "cell_type": "code",
   "metadata": {},
   "execution_count": 33,
   "outputs": [
    {
     "output_type": "execute_result",
     "data": {
      "text/plain": [
       "['* main 73c55b6 [origin/main: ahead 1] programa ejemplo branching segundo intento']"
      ]
     },
     "metadata": {},
     "execution_count": 33
    }
   ]
  },
  {
   "source": [
    "Al usar una referencia después de `branch`, git crea una referencia en el lugar en donde estamos (en el commit actual)"
   ],
   "cell_type": "markdown",
   "metadata": {}
  },
  {
   "cell_type": "code",
   "execution_count": 34,
   "metadata": {},
   "outputs": [
    {
     "output_type": "execute_result",
     "data": {
      "text/plain": [
       "['* commit 73c55b66b7bc07118d6972738d5060516ba9d0e2 (HEAD -> main, ejemplo)',\n",
       " '| Author: Sofi GS <19873735+sofi-gt@users.noreply.github.com>',\n",
       " '| Date:   Sat Feb 6 14:42:04 2021 -0600',\n",
       " '| ',\n",
       " '|     programa ejemplo branching',\n",
       " '|     segundo intento',\n",
       " '| ',\n",
       " '* commit 18c2a8c55c3287295b57cbf39f100205826d39e2 (origin/main, origin/HEAD)',\n",
       " '| Author: Sofi GS <19873735+sofi-gt@users.noreply.github.com>',\n",
       " '| Date:   Sat Feb 6 14:40:56 2021 -0600',\n",
       " '| ',\n",
       " '|     correcciones branching']"
      ]
     },
     "metadata": {},
     "execution_count": 34
    }
   ],
   "source": [
    "%sx git branch ejemplo\n",
    "%sx git log -2 --graph --decorate"
   ]
  },
  {
   "source": [
    "Para cambiar de branch, se utiliza el comando `git checkout`"
   ],
   "cell_type": "markdown",
   "metadata": {}
  },
  {
   "cell_type": "code",
   "execution_count": 35,
   "metadata": {},
   "outputs": [
    {
     "output_type": "execute_result",
     "data": {
      "text/plain": [
       "[\"Switched to branch 'ejemplo'\"]"
      ]
     },
     "metadata": {},
     "execution_count": 35
    }
   ],
   "source": [
    "%sx git checkout ejemplo"
   ]
  },
  {
   "source": [
    "Ahora `HEAD` apunta hacia el branch ejemplo"
   ],
   "cell_type": "markdown",
   "metadata": {}
  },
  {
   "cell_type": "code",
   "execution_count": 36,
   "metadata": {},
   "outputs": [
    {
     "output_type": "execute_result",
     "data": {
      "text/plain": [
       "['* commit 73c55b66b7bc07118d6972738d5060516ba9d0e2 (HEAD -> ejemplo, main)',\n",
       " '| Author: Sofi GS <19873735+sofi-gt@users.noreply.github.com>',\n",
       " '| Date:   Sat Feb 6 14:42:04 2021 -0600',\n",
       " '| ',\n",
       " '|     programa ejemplo branching',\n",
       " '|     segundo intento',\n",
       " '| ',\n",
       " '* commit 18c2a8c55c3287295b57cbf39f100205826d39e2 (origin/main, origin/HEAD)',\n",
       " '| Author: Sofi GS <19873735+sofi-gt@users.noreply.github.com>',\n",
       " '| Date:   Sat Feb 6 14:40:56 2021 -0600',\n",
       " '| ',\n",
       " '|     correcciones branching']"
      ]
     },
     "metadata": {},
     "execution_count": 36
    }
   ],
   "source": [
    "%sx git log -2 --graph --decorate"
   ]
  },
  {
   "source": [
    "Agregamos funcionalidad al script y con `git diff` podemos observar los cambios realizados."
   ],
   "cell_type": "markdown",
   "metadata": {}
  },
  {
   "cell_type": "code",
   "execution_count": 37,
   "metadata": {},
   "outputs": [
    {
     "output_type": "execute_result",
     "data": {
      "text/plain": [
       "['diff --git a/tareas/02-tarea/programa-ejemplo.py b/tareas/02-tarea/programa-ejemplo.py',\n",
       " 'index 433a0a1..fd4a0f3 100644',\n",
       " '--- a/tareas/02-tarea/programa-ejemplo.py',\n",
       " '+++ b/tareas/02-tarea/programa-ejemplo.py',\n",
       " '@@ -1,10 +1,16 @@',\n",
       " ' import sys',\n",
       " ' ',\n",
       " '+def cat():',\n",
       " \"+    print('meaow')\",\n",
       " '+',\n",
       " ' def default():',\n",
       " \"     print('hello')\",\n",
       " ' ',\n",
       " ' def main():',\n",
       " '-    default()',\n",
       " \"+    if sys.argv[1] == 'cat':\",\n",
       " '+        cat()',\n",
       " '+    else:',\n",
       " '+        default()',\n",
       " ' ',\n",
       " \" if __name__ == '__main__':\",\n",
       " '     main()',\n",
       " '\\\\ No newline at end of file']"
      ]
     },
     "metadata": {},
     "execution_count": 37
    }
   ],
   "source": [
    "%sx git diff"
   ]
  },
  {
   "cell_type": "code",
   "execution_count": 38,
   "metadata": {},
   "outputs": [
    {
     "output_type": "execute_result",
     "data": {
      "text/plain": [
       "['[ejemplo a55d3c0] agregar funcionalidad a script se agrega funcionalidad para cat',\n",
       " ' 1 file changed, 7 insertions(+), 1 deletion(-)']"
      ]
     },
     "metadata": {},
     "execution_count": 38
    }
   ],
   "source": [
    "%sx git add programa-ejemplo.py\n",
    "%sx git commit"
   ]
  },
  {
   "cell_type": "code",
   "execution_count": 39,
   "metadata": {},
   "outputs": [
    {
     "output_type": "execute_result",
     "data": {
      "text/plain": [
       "['* a55d3c0 (HEAD -> ejemplo) agregar funcionalidad a script se agrega funcionalidad para cat',\n",
       " '* 73c55b6 (main) programa ejemplo branching segundo intento',\n",
       " '* 18c2a8c (origin/main, origin/HEAD) correcciones branching']"
      ]
     },
     "metadata": {},
     "execution_count": 39
    }
   ],
   "source": [
    "%sx git log -3 --graph --decorate --oneline"
   ]
  },
  {
   "source": [
    "Si nos regresamos al `main` branch veremos que los cambios no están en este branch."
   ],
   "cell_type": "markdown",
   "metadata": {}
  },
  {
   "cell_type": "code",
   "execution_count": 40,
   "metadata": {},
   "outputs": [
    {
     "output_type": "execute_result",
     "data": {
      "text/plain": [
       "['import sys',\n",
       " '',\n",
       " 'def default():',\n",
       " \"    print('hello')\",\n",
       " '',\n",
       " 'def main():',\n",
       " '    default()',\n",
       " '',\n",
       " \"if __name__ == '__main__':\",\n",
       " '    main()']"
      ]
     },
     "metadata": {},
     "execution_count": 40
    }
   ],
   "source": [
    "%sx git checkout main\n",
    "%sx cat programa-ejemplo.py"
   ]
  },
  {
   "source": [
    "Ahora veremos un ejemplo de trabajar en dos branches en paralelo creando y posicionandonos en la nueva branch"
   ],
   "cell_type": "markdown",
   "metadata": {}
  },
  {
   "cell_type": "code",
   "execution_count": 44,
   "metadata": {},
   "outputs": [
    {
     "output_type": "execute_result",
     "data": {
      "text/plain": [
       "[\"Switched to a new branch 'ejemplo2'\"]"
      ]
     },
     "metadata": {},
     "execution_count": 44
    }
   ],
   "source": [
    "%sx git checkout -b ejemplo2"
   ]
  },
  {
   "cell_type": "code",
   "execution_count": 45,
   "metadata": {},
   "outputs": [
    {
     "output_type": "execute_result",
     "data": {
      "text/plain": [
       "['* 73c55b6 (HEAD -> ejemplo2, main) programa ejemplo branching segundo intento',\n",
       " '* 18c2a8c (origin/main, origin/HEAD) correcciones branching',\n",
       " '* 08d4fab script de python para ejemplo de merging y branching']"
      ]
     },
     "metadata": {},
     "execution_count": 45
    }
   ],
   "source": [
    "%sx git log -3 --graph --decorate --oneline"
   ]
  },
  {
   "cell_type": "code",
   "execution_count": 46,
   "metadata": {},
   "outputs": [
    {
     "output_type": "execute_result",
     "data": {
      "text/plain": [
       "['diff --git a/tareas/02-tarea/programa-ejemplo.py b/tareas/02-tarea/programa-ejemplo.py',\n",
       " 'index 433a0a1..625bc52 100644',\n",
       " '--- a/tareas/02-tarea/programa-ejemplo.py',\n",
       " '+++ b/tareas/02-tarea/programa-ejemplo.py',\n",
       " '@@ -3,8 +3,14 @@ import sys',\n",
       " ' def default():',\n",
       " \"     print('hello')\",\n",
       " ' ',\n",
       " '+def dog():',\n",
       " \"+    print('woof')\",\n",
       " '+',\n",
       " ' def main():',\n",
       " '-    default()',\n",
       " \"+    if sys.argv[1] == 'dog':\",\n",
       " '+        dog()',\n",
       " '+    else:',\n",
       " '+        default()',\n",
       " ' ',\n",
       " \" if __name__ == '__main__':\",\n",
       " '     main()',\n",
       " '\\\\ No newline at end of file']"
      ]
     },
     "metadata": {},
     "execution_count": 46
    }
   ],
   "source": [
    "%sx git diff"
   ]
  },
  {
   "cell_type": "code",
   "execution_count": 47,
   "metadata": {},
   "outputs": [
    {
     "output_type": "execute_result",
     "data": {
      "text/plain": [
       "['[ejemplo2 b558519] se agrego funcionalidad de perro',\n",
       " ' 1 file changed, 7 insertions(+), 1 deletion(-)']"
      ]
     },
     "metadata": {},
     "execution_count": 47
    }
   ],
   "source": [
    "%sx git add programa-ejemplo.py\n",
    "%sx git commit"
   ]
  },
  {
   "cell_type": "code",
   "execution_count": 52,
   "metadata": {},
   "outputs": [
    {
     "output_type": "execute_result",
     "data": {
      "text/plain": [
       "['* b558519 (HEAD -> ejemplo2) se agrego funcionalidad de perro',\n",
       " '| * a55d3c0 (ejemplo) agregar funcionalidad a script se agrega funcionalidad para cat',\n",
       " '|/  ',\n",
       " '* 73c55b6 (main) programa ejemplo branching segundo intento',\n",
       " '* 18c2a8c (origin/main, origin/HEAD) correcciones branching']"
      ]
     },
     "metadata": {},
     "execution_count": 52
    }
   ],
   "source": [
    "%sx git log --all --graph --decorate --oneline | head -n 5"
   ]
  },
  {
   "source": [
    "### git merge\n",
    "Permite combinar branches.\n",
    "\n",
    "Nos vamos a posicionar en el main branch y desde allí combinaremos las dos branches nuevas que hicimos."
   ],
   "cell_type": "markdown",
   "metadata": {}
  },
  {
   "cell_type": "code",
   "execution_count": 53,
   "metadata": {},
   "outputs": [
    {
     "output_type": "execute_result",
     "data": {
      "text/plain": [
       "[\"Switched to branch 'main'\",\n",
       " \"Your branch is ahead of 'origin/main' by 1 commit.\",\n",
       " '  (use \"git push\" to publish your local commits)']"
      ]
     },
     "metadata": {},
     "execution_count": 53
    }
   ],
   "source": [
    "%sx git checkout main"
   ]
  },
  {
   "cell_type": "code",
   "execution_count": 55,
   "metadata": {},
   "outputs": [
    {
     "output_type": "execute_result",
     "data": {
      "text/plain": [
       "['Updating 73c55b6..a55d3c0',\n",
       " 'Fast-forward',\n",
       " ' tareas/02-tarea/programa-ejemplo.py | 8 +++++++-',\n",
       " ' 1 file changed, 7 insertions(+), 1 deletion(-)']"
      ]
     },
     "metadata": {},
     "execution_count": 55
    }
   ],
   "source": [
    "%sx git merge ejemplo"
   ]
  },
  {
   "source": [
    "%sx git log --all --graph --decorate --oneline | head -n 5"
   ],
   "cell_type": "code",
   "metadata": {},
   "execution_count": 58,
   "outputs": [
    {
     "output_type": "execute_result",
     "data": {
      "text/plain": [
       "['* b558519 (ejemplo2) se agrego funcionalidad de perro',\n",
       " '| * a55d3c0 (HEAD -> main, ejemplo) agregar funcionalidad a script se agrega funcionalidad para cat',\n",
       " '|/  ',\n",
       " '* 73c55b6 programa ejemplo branching segundo intento',\n",
       " '* 18c2a8c (origin/main, origin/HEAD) correcciones branching']"
      ]
     },
     "metadata": {},
     "execution_count": 58
    }
   ]
  },
  {
   "source": [
    "Se puede ver que el branch main y el branch ejemplo apuntan al mismo commit.\n",
    "Y si vemos el script de ejemplo, tiene incorporada la funcionalidad de cat en el main branch"
   ],
   "cell_type": "markdown",
   "metadata": {}
  },
  {
   "cell_type": "code",
   "execution_count": 64,
   "metadata": {},
   "outputs": [
    {
     "output_type": "execute_result",
     "data": {
      "text/plain": [
       "['import sys',\n",
       " '',\n",
       " 'def cat():',\n",
       " \"    print('meaow')\",\n",
       " '',\n",
       " 'def default():',\n",
       " \"    print('hello')\",\n",
       " '',\n",
       " 'def main():',\n",
       " \"    if sys.argv[1] == 'cat':\",\n",
       " '        cat()',\n",
       " '    else:',\n",
       " '        default()',\n",
       " '',\n",
       " \"if __name__ == '__main__':\",\n",
       " '    main()']"
      ]
     },
     "metadata": {},
     "execution_count": 64
    }
   ],
   "source": [
    "%sx cat programa-ejemplo.py"
   ]
  },
  {
   "source": [
    "Al intentar combinar el branch con la funcionalidad de dog, se genera un conflicto.\n",
    "No se puede hacer un \"fast foward\" como en el merge anterior"
   ],
   "cell_type": "markdown",
   "metadata": {}
  },
  {
   "cell_type": "code",
   "execution_count": 65,
   "metadata": {},
   "outputs": [
    {
     "output_type": "execute_result",
     "data": {
      "text/plain": [
       "['Auto-merging tareas/02-tarea/programa-ejemplo.py',\n",
       " 'CONFLICT (content): Merge conflict in tareas/02-tarea/programa-ejemplo.py',\n",
       " 'Automatic merge failed; fix conflicts and then commit the result.']"
      ]
     },
     "metadata": {},
     "execution_count": 65
    }
   ],
   "source": [
    "%sx git merge ejemplo2"
   ]
  },
  {
   "source": [
    "El conflicto se puede resolver de forma manual o se puede utilizar una herramienta como `git mergetools`\n",
    "Para este ejemplo, se corrigió manualmente y se continuo el merge."
   ],
   "cell_type": "markdown",
   "metadata": {}
  },
  {
   "cell_type": "code",
   "execution_count": 68,
   "metadata": {},
   "outputs": [
    {
     "output_type": "execute_result",
     "data": {
      "text/plain": [
       "['import sys',\n",
       " '',\n",
       " 'def cat():',\n",
       " \"    print('meaow')\",\n",
       " '',\n",
       " 'def default():',\n",
       " \"    print('hello')\",\n",
       " '',\n",
       " 'def dog():',\n",
       " \"    print('woof')\",\n",
       " '',\n",
       " 'def main():',\n",
       " \"    if sys.argv[1] == 'cat':\",\n",
       " '        cat()',\n",
       " \"    elif sys.argv[1] == 'dog':\",\n",
       " '        dog()',\n",
       " '    else:',\n",
       " '        default()',\n",
       " '',\n",
       " \"if __name__ == '__main__':\",\n",
       " '    main()']"
      ]
     },
     "metadata": {},
     "execution_count": 68
    }
   ],
   "source": [
    "%sx cat programa-ejemplo.py"
   ]
  },
  {
   "cell_type": "code",
   "execution_count": 72,
   "metadata": {},
   "outputs": [
    {
     "output_type": "execute_result",
     "data": {
      "text/plain": [
       "[\"*   e57e165 (HEAD -> main) Merge branch 'ejemplo2' into main\",\n",
       " '|\\\\  ',\n",
       " '| * b558519 (ejemplo2) se agrego funcionalidad de perro',\n",
       " '* | a55d3c0 (ejemplo) agregar funcionalidad a script se agrega funcionalidad para cat',\n",
       " '|/  ',\n",
       " '* 73c55b6 programa ejemplo branching segundo intento',\n",
       " '* 18c2a8c (origin/main, origin/HEAD) correcciones branching',\n",
       " '* 08d4fab script de python para ejemplo de merging y branching']"
      ]
     },
     "metadata": {},
     "execution_count": 72
    }
   ],
   "source": [
    "%sx git log --all --graph --decorate --oneline | head -n 8"
   ]
  },
  {
   "source": [
    "## Remotes\n",
    "\n",
    "Esta parte no será una demostración sino solo notas de los comandos utilizados para configurar repositorios remotos como Github.\n",
    "\n",
    "Estos repositorios son identifcados por un nombre y un url.\n",
    "\n",
    "### git remote add\n",
    "Agrega un repositorio remoto al repositorio actual."
   ],
   "cell_type": "markdown",
   "metadata": {}
  },
  {
   "source": [
    "```bash\n",
    "git remote add <nombre> <url>\n",
    "```"
   ],
   "cell_type": "markdown",
   "metadata": {}
  },
  {
   "source": [
    "### git push\n",
    "Enviar cambios del repositorio local al repositorio remoto. Si no existe un branch remoto, este comando la creará.\n",
    "\n",
    "```bash\n",
    "git push <remote> <local branch>:<remote branch>\n",
    "```"
   ],
   "cell_type": "markdown",
   "metadata": {}
  },
  {
   "source": [
    "### git clone\n",
    "Se utiliza para copiar un repositorio remoto y descargarlo a un folder local\n",
    "\n",
    "```bash\n",
    "git clone <url> <nombre folder destino>\n",
    "```"
   ],
   "cell_type": "markdown",
   "metadata": {}
  },
  {
   "source": [
    "### relacionar branch local con remote\n",
    "Para facilitar git push, se puede utilizar el siguiente comando para relacionar el branch actual con un branch remoto.\n",
    "\n",
    "```bash\n",
    "git branch --set-upstream-to=origin/main\n",
    "```\n",
    "con esto se puede utilizar el shortcut\n",
    "```bash\n",
    "git push\n",
    "```"
   ],
   "cell_type": "markdown",
   "metadata": {}
  },
  {
   "source": [
    "### git fetch\n",
    "Fetch no cambia nada de la historia local, solo va a traer información de los cambios que hay en el remoto.\n",
    "\n",
    "```bash\n",
    "git fetch <nombre remote>\n",
    "```"
   ],
   "cell_type": "markdown",
   "metadata": {}
  },
  {
   "source": [
    "### git pull\n",
    "Es la combinación de `git fetch` y `git pull`.\n",
    "\n",
    "```bash\n",
    "git pull\n",
    "```"
   ],
   "cell_type": "markdown",
   "metadata": {}
  }
 ],
 "metadata": {
  "kernelspec": {
   "display_name": "Python 3",
   "language": "python",
   "name": "python3"
  },
  "language_info": {
   "codemirror_mode": {
    "name": "ipython",
    "version": 3
   },
   "file_extension": ".py",
   "mimetype": "text/x-python",
   "name": "python",
   "nbconvert_exporter": "python",
   "pygments_lexer": "ipython3",
   "version": "3.9.1-final"
  }
 },
 "nbformat": 4,
 "nbformat_minor": 4
}