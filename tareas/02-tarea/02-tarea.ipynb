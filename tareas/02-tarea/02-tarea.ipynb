{
 "cells": [
  {
   "cell_type": "markdown",
   "metadata": {},
   "source": [
    "# Git - Control de Versiones\n",
    "*Sofía García Salas*\n",
    "\n",
    "*2021-03-02*\n",
    "\n",
    "***"
   ]
  },
  {
   "cell_type": "markdown",
   "metadata": {},
   "source": [
    "Estas son mis notas sobre la clase de MIT [The Missing Semester](https://missing.csail.mit.edu/2020/version-control/)."
   ]
  },
  {
   "cell_type": "markdown",
   "metadata": {},
   "source": [
    "## Control de versiones\n",
    "`Git` es un sistema de control de versiones que permite documentar los cambios a código u otro documentos y folders. También facilitan el trabajo en equipo.\n",
    "\n",
    "Estos sistemas almacenan la historia de cambios tomando una fotografía al estado de los archivos y folders. No solo tienen la historia de los cambios a estos archivos sino que también almacenan metadata (e.g. quién realizó un cambio, en qué momento).\n",
    "\n",
    "### Utilidad\n",
    "Sirve no solo en proyectos grandes, sino en proyecto personales para poder revisar versiones antiguos del código, ver por qué se cambio algo (viendo commit messages), trabajar en paralelo con distintas branches para el desarrollo, etc. "
   ]
  },
  {
   "cell_type": "markdown",
   "metadata": {},
   "source": [
    "### Git\n",
    "Se ha vuelto el sistema de control de versiones más popular.\n",
    "\n",
    "Se interfaz no es muy amigable con el usuario, por lo que el profesor recomienda empezar aprendiendo su diseño e ideas. Al entender esto, será más fácil utilizar la interfaz y resolver problemas."
   ]
  },
  {
   "cell_type": "markdown",
   "metadata": {},
   "source": [
    "## Modelo de historia de Git\n",
    "### Modelo de folders y archivos\n",
    "Es una colección de archivos y folders dentro de un directorio maestro.\n",
    "Un folder es denominado como `tree` y un archivo como `blob`.\n",
    "\n",
    "```\n",
    "root\n",
    "|-foo (tree)\n",
    "| |-bar.txt (blob)\n",
    "|-baz.txt\n",
    "\n",
    "```\n",
    "\n",
    "El folder `root`es el directorio al que se le está dando seguimiento.\n",
    "\n",
    "### Modelo de historia\n",
    "Una forma de crear un modelo de historia es tomar una fotografía de los folders y archivos en el directorio. La historia se vuelve una secuencia lineal de estas fotografías. Es muy similar a tener copias de folders con marcas de tiempo.\n",
    "\n",
    "Git utilizado un modelo más complejo llamado **Directed acyclic graph**. \n",
    "\n",
    "Con este modelo uno puede separar versiones (`fork`) para trabajar en ramas (`branches`) en paralelo sin interferencia; por ejemplo, trabajar es una nueva característica y en paralelo arreglar un desperfecto en el código en producción. \n",
    "Estas ramas después se pueden unir (`merge`) y la nueva fotografía tendrá como referencia las dos versiones que se unieron.\n",
    "\n"
   ]
  },
  {
   "source": [
    "![history](img/history.jpg)"
   ],
   "cell_type": "markdown",
   "metadata": {}
  },
  {
   "source": [
    "Es pseudocódigo, el modelo de archivos e historia de `Git`se puede explicar de la siguiente manera:\n",
    "\n",
    "```\n",
    "type blob = array<byte>    # file = coleccion de bytes\n",
    "\n",
    "type tree = map<string, tree | blob> # folder = mapea un nombre de directorio a contenido (archivos o folders)\n",
    "\n",
    "type commit = struct{           # metadata con la información de la fotografía\n",
    "    parents: array<commit>\n",
    "    author: string\n",
    "    message: string\n",
    "    snapshot: tree\n",
    "\n",
    "}\n",
    "```"
   ],
   "cell_type": "markdown",
   "metadata": {}
  }
 ],
 "metadata": {
  "kernelspec": {
   "display_name": "Python 3",
   "language": "python",
   "name": "python3"
  },
  "language_info": {
   "codemirror_mode": {
    "name": "ipython",
    "version": 3
   },
   "file_extension": ".py",
   "mimetype": "text/x-python",
   "name": "python",
   "nbconvert_exporter": "python",
   "pygments_lexer": "ipython3",
   "version": "3.8.6"
  }
 },
 "nbformat": 4,
 "nbformat_minor": 4
}