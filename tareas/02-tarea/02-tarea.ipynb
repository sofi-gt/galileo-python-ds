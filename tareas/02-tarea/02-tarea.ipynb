{
 "cells": [
  {
   "cell_type": "markdown",
   "metadata": {},
   "source": [
    "# Git - Control de Versiones\n",
    "*Sofía García Salas*\n",
    "\n",
    "*2021-03-02*\n",
    "\n",
    "***"
   ]
  },
  {
   "cell_type": "markdown",
   "metadata": {},
   "source": [
    "Estas son mis notas sobre la clase de MIT [The Missing Semester](https://missing.csail.mit.edu/2020/version-control/)."
   ]
  },
  {
   "cell_type": "markdown",
   "metadata": {},
   "source": [
    "## Control de versiones\n",
    "`Git` es un sistema de control de versiones que permite documentar los cambios a código u otro documentos y folders. También facilitan el trabajo en equipo.\n",
    "\n",
    "Estos sistemas almacenan la historia de cambios tomando una fotografía al estado de los archivos y folders. No solo tienen la historia de los cambios a estos archivos sino que también almacenan metadata (e.g. quién realizó un cambio, en qué momento).\n",
    "\n",
    "### Utilidad\n",
    "Sirve no solo en proyectos grandes, sino en proyecto personales para poder revisar versiones antiguos del código, ver por qué se cambio algo (viendo commit messages), trabajar en paralelo con distintas branches para el desarrollo, etc. "
   ]
  },
  {
   "cell_type": "markdown",
   "metadata": {},
   "source": [
    "### Git\n",
    "Se ha vuelto el sistema de control de versiones más popular.\n",
    "\n",
    "Se interfaz no es muy amigable con el usuario, por lo que el profesor recomienda empezar aprendiendo su diseño e ideas. Al entender esto, será más fácil utilizar la interfaz y resolver problemas."
   ]
  },
  {
   "cell_type": "markdown",
   "metadata": {},
   "source": [
    "## Modelo de datos de Git\n",
    "### Modelo de folders y archivos\n",
    "Es una colección de archivos y folders dentro de un directorio maestro.\n",
    "Un folder es denominado como `tree` y un archivo como `blob`.\n",
    "\n",
    "```\n",
    "root\n",
    "|-foo (tree)\n",
    "| |-bar.txt (blob)\n",
    "|-baz.txt\n",
    "\n",
    "```\n",
    "\n",
    "El folder `root`es el directorio al que se le está dando seguimiento.\n",
    "\n",
    "### Modelo de historia\n",
    "Una forma de crear un modelo de historia es tomar una fotografía de los folders y archivos en el directorio. La historia se vuelve una secuencia lineal de estas fotografías. Es muy similar a tener copias de folders con marcas de tiempo.\n",
    "\n",
    "Git utilizado un modelo más complejo llamado **Directed acyclic graph**. \n",
    "\n",
    "Con este modelo uno puede separar versiones (`fork`) para trabajar en ramas (`branches`) en paralelo sin interferencia; por ejemplo, trabajar es una nueva característica y en paralelo arreglar un desperfecto en el código en producción. \n",
    "Estas ramas después se pueden unir (`merge`) y la nueva fotografía tendrá como referencia las dos versiones que se unieron.\n",
    "\n"
   ]
  },
  {
   "source": [
    "![history](img/history.jpg)"
   ],
   "cell_type": "markdown",
   "metadata": {}
  },
  {
   "source": [
    "Es pseudocódigo, el modelo de archivos e historia de `Git`se puede explicar de la siguiente manera:\n",
    "\n",
    "**Tipos de estructuras:**\n",
    "```\n",
    "type blob = array<byte>    # file = coleccion de bytes\n",
    "\n",
    "type tree = map<string, tree | blob> # folder = mapea un nombre de directorio a contenido (archivos o folders)\n",
    "\n",
    "type commit = struct{           # metadata con la información de la fotografía\n",
    "    parents: array<commit>\n",
    "    author: string\n",
    "    message: string\n",
    "    snapshot: tree  # esta es una referencia al objeto no el objeto en si\n",
    "```\n",
    "**Almacenamiento en disco:**los objetos son los que Git almacena en disco\n",
    "```\n",
    "type object = blog | tree | commit\n",
    "\n",
    "objects = map<string, objects>\n",
    "\n",
    "# para almacenar en disco se utiliza el hash del objeto\n",
    "def store(o)\n",
    "    id = sha1(o) # hash del objeto\n",
    "    objects[id] = o\n",
    "\n",
    "}\n",
    "\n",
    "df load(id)\n",
    "    return objects[id]\n",
    "```\n",
    "**Referencias**:\n",
    "mapea referencias de un nombre legible para el humano con su hash respectivo\n",
    "```\n",
    "references = map<string, string>\n",
    "```"
   ],
   "cell_type": "markdown",
   "metadata": {}
  },
  {
   "source": [
    "La historia y los hash son inmutables, pero las referencias sí se pueden cambiar.\n",
    "En forma general, todos los comandos de `Git` son manipulaciones de los datos de los *objetos* o de las *referencia*"
   ],
   "cell_type": "markdown",
   "metadata": {}
  },
  {
   "source": [
    "## Demostración\n",
    "\n",
    "Esta sera una demostración de cómo utilizar comandos de git, pero no de como hacer la inicializacion para no alterar el repositorio ya existente."
   ],
   "cell_type": "markdown",
   "metadata": {}
  },
  {
   "source": [
    "Al visualizar el directorio `.git` podemos `refs` y `objects` que son donde `Git` almacena la información de los repositorios."
   ],
   "cell_type": "markdown",
   "metadata": {}
  },
  {
   "cell_type": "code",
   "execution_count": 6,
   "metadata": {},
   "outputs": [
    {
     "output_type": "execute_result",
     "data": {
      "text/plain": [
       "['branches',\n",
       " 'config',\n",
       " 'description',\n",
       " 'HEAD',\n",
       " 'hooks',\n",
       " 'index',\n",
       " 'info',\n",
       " 'logs',\n",
       " 'objects',\n",
       " 'packed-refs',\n",
       " 'refs']"
      ]
     },
     "metadata": {},
     "execution_count": 6
    }
   ],
   "source": [
    "%sx ls ../../.git"
   ]
  },
  {
   "source": [
    "El comando `git help` se puede utilizar para obtener información sobre `git`. También se puede utilizar `git help <comando>` para tener información adicional del comando específico."
   ],
   "cell_type": "markdown",
   "metadata": {}
  },
  {
   "cell_type": "code",
   "execution_count": 8,
   "metadata": {},
   "outputs": [
    {
     "output_type": "execute_result",
     "data": {
      "text/plain": [
       "['usage: git [--version] [--help] [-C <path>] [-c <name>=<value>]',\n",
       " '           [--exec-path[=<path>]] [--html-path] [--man-path] [--info-path]',\n",
       " '           [-p | --paginate | -P | --no-pager] [--no-replace-objects] [--bare]',\n",
       " '           [--git-dir=<path>] [--work-tree=<path>] [--namespace=<name>]',\n",
       " '           <command> [<args>]',\n",
       " '',\n",
       " 'These are common Git commands used in various situations:',\n",
       " '',\n",
       " 'start a working area (see also: git help tutorial)',\n",
       " '   clone             Clone a repository into a new directory',\n",
       " '   init              Create an empty Git repository or reinitialize an existing one',\n",
       " '',\n",
       " 'work on the current change (see also: git help everyday)',\n",
       " '   add               Add file contents to the index',\n",
       " '   mv                Move or rename a file, a directory, or a symlink',\n",
       " '   restore           Restore working tree files',\n",
       " '   rm                Remove files from the working tree and from the index',\n",
       " '   sparse-checkout   Initialize and modify the sparse-checkout',\n",
       " '',\n",
       " 'examine the history and state (see also: git help revisions)',\n",
       " '   bisect            Use binary search to find the commit that introduced a bug',\n",
       " '   diff              Show changes between commits, commit and working tree, etc',\n",
       " '   grep              Print lines matching a pattern',\n",
       " '   log               Show commit logs',\n",
       " '   show              Show various types of objects',\n",
       " '   status            Show the working tree status',\n",
       " '',\n",
       " 'grow, mark and tweak your common history',\n",
       " '   branch            List, create, or delete branches',\n",
       " '   commit            Record changes to the repository',\n",
       " '   merge             Join two or more development histories together',\n",
       " '   rebase            Reapply commits on top of another base tip',\n",
       " '   reset             Reset current HEAD to the specified state',\n",
       " '   switch            Switch branches',\n",
       " '   tag               Create, list, delete or verify a tag object signed with GPG',\n",
       " '',\n",
       " 'collaborate (see also: git help workflows)',\n",
       " '   fetch             Download objects and refs from another repository',\n",
       " '   pull              Fetch from and integrate with another repository or a local branch',\n",
       " '   push              Update remote refs along with associated objects',\n",
       " '',\n",
       " \"'git help -a' and 'git help -g' list available subcommands and some\",\n",
       " \"concept guides. See 'git help <command>' or 'git help <concept>'\",\n",
       " 'to read about a specific subcommand or concept.',\n",
       " \"See 'git help git' for an overview of the system.\"]"
      ]
     },
     "metadata": {},
     "execution_count": 8
    }
   ],
   "source": [
    "%sx git help"
   ]
  },
  {
   "source": [
    "El comando `git status` se puede ver información de la historia y el estatus actual del repositorio."
   ],
   "cell_type": "markdown",
   "metadata": {}
  },
  {
   "source": [
    "%sx git status"
   ],
   "cell_type": "code",
   "metadata": {},
   "execution_count": 2,
   "outputs": [
    {
     "output_type": "execute_result",
     "data": {
      "text/plain": [
       "['On branch main',\n",
       " \"Your branch is up to date with 'origin/main'.\",\n",
       " '',\n",
       " 'nothing to commit, working tree clean']"
      ]
     },
     "metadata": {},
     "execution_count": 2
    }
   ]
  },
  {
   "source": [
    "El staging area es dónde le decimos a git qué cambios incluir en la próxima fotografía que tome.\n",
    "Podemos ver cómo cambia el status cuándo se crea un nuevo archivo:"
   ],
   "cell_type": "markdown",
   "metadata": {}
  },
  {
   "cell_type": "code",
   "execution_count": 3,
   "metadata": {},
   "outputs": [
    {
     "output_type": "execute_result",
     "data": {
      "text/plain": [
       "['On branch main',\n",
       " \"Your branch is up to date with 'origin/main'.\",\n",
       " '',\n",
       " 'Untracked files:',\n",
       " '  (use \"git add <file>...\" to include in what will be committed)',\n",
       " '\\tarchivo_ejemplo.txt',\n",
       " '',\n",
       " 'nothing added to commit but untracked files present (use \"git add\" to track)']"
      ]
     },
     "metadata": {},
     "execution_count": 3
    }
   ],
   "source": [
    "%sx echo 'archivo de ejemplo para git' > archivo_ejemplo.txt\n",
    "%sx git status"
   ]
  },
  {
   "source": [
    "Y cómo el status cambia al agregarlo al tracking de git"
   ],
   "cell_type": "markdown",
   "metadata": {}
  },
  {
   "cell_type": "code",
   "execution_count": 4,
   "metadata": {},
   "outputs": [
    {
     "output_type": "execute_result",
     "data": {
      "text/plain": [
       "['On branch main',\n",
       " \"Your branch is up to date with 'origin/main'.\",\n",
       " '',\n",
       " 'Changes to be committed:',\n",
       " '  (use \"git restore --staged <file>...\" to unstage)',\n",
       " '\\tnew file:   archivo_ejemplo.txt',\n",
       " '']"
      ]
     },
     "metadata": {},
     "execution_count": 4
    }
   ],
   "source": [
    "%sx git add archivo_ejemplo.txt\n",
    "%sx git status"
   ]
  },
  {
   "source": [
    "Para tomar la fotografía, se utiliza el comando `git commit`"
   ],
   "cell_type": "markdown",
   "metadata": {}
  },
  {
   "cell_type": "code",
   "execution_count": 5,
   "metadata": {},
   "outputs": [
    {
     "output_type": "execute_result",
     "data": {
      "text/plain": [
       "['[main 83644be] Agregar archivo de ejemplo',\n",
       " ' 1 file changed, 1 insertion(+)',\n",
       " ' create mode 100644 tareas/02-tarea/archivo_ejemplo.txt']"
      ]
     },
     "metadata": {},
     "execution_count": 5
    }
   ],
   "source": [
    "%sx git commit"
   ]
  },
  {
   "source": [
    "Se puede utilizar el comando `git log` para ver la historia de todos los cambios. Aquí utilizaré -1 para solo mostrar el último commit"
   ],
   "cell_type": "markdown",
   "metadata": {}
  },
  {
   "cell_type": "code",
   "execution_count": 13,
   "metadata": {},
   "outputs": [
    {
     "output_type": "execute_result",
     "data": {
      "text/plain": [
       "['commit 83644be39f4251ddf141c8c894d3644c37a0af27',\n",
       " 'Author: Sofi GS <19873735+sofi-gt@users.noreply.github.com>',\n",
       " 'Date:   Sat Feb 6 12:09:09 2021 -0600',\n",
       " '',\n",
       " '    Agregar archivo de ejemplo']"
      ]
     },
     "metadata": {},
     "execution_count": 13
    }
   ],
   "source": [
    "%sx git log -1"
   ]
  },
  {
   "source": [
    "Para ver el contenido de un commit se puede utilizar el comando `git cat-file` con el hash"
   ],
   "cell_type": "markdown",
   "metadata": {}
  },
  {
   "cell_type": "code",
   "execution_count": 14,
   "metadata": {},
   "outputs": [
    {
     "output_type": "execute_result",
     "data": {
      "text/plain": [
       "['tree 56e4e6215bca85188f3d6b9d504abf0f01507667',\n",
       " 'parent 946f83da08279b6d47ad9ef58562bf5b838dc313',\n",
       " 'author Sofi GS <19873735+sofi-gt@users.noreply.github.com> 1612634949 -0600',\n",
       " 'committer Sofi GS <19873735+sofi-gt@users.noreply.github.com> 1612634949 -0600',\n",
       " '',\n",
       " 'Agregar archivo de ejemplo']"
      ]
     },
     "metadata": {},
     "execution_count": 14
    }
   ],
   "source": [
    "%sx git cat-file -p 83644be"
   ]
  },
  {
   "source": [
    "`git add` y `git commit` están separados para poder tener mayor flexibilidad y organización. Yo puedo decidir qué archivos se incluyen en cada commit"
   ],
   "cell_type": "markdown",
   "metadata": {}
  }
 ],
 "metadata": {
  "kernelspec": {
   "display_name": "Python 3",
   "language": "python",
   "name": "python3"
  },
  "language_info": {
   "codemirror_mode": {
    "name": "ipython",
    "version": 3
   },
   "file_extension": ".py",
   "mimetype": "text/x-python",
   "name": "python",
   "nbconvert_exporter": "python",
   "pygments_lexer": "ipython3",
   "version": "3.9.1-final"
  }
 },
 "nbformat": 4,
 "nbformat_minor": 4
}