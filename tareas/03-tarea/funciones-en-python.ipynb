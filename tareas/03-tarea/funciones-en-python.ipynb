{
 "metadata": {
  "language_info": {
   "codemirror_mode": {
    "name": "ipython",
    "version": 3
   },
   "file_extension": ".py",
   "mimetype": "text/x-python",
   "name": "python",
   "nbconvert_exporter": "python",
   "pygments_lexer": "ipython3",
   "version": "3.8.6-final"
  },
  "orig_nbformat": 2,
  "kernelspec": {
   "name": "python3",
   "display_name": "Python 3",
   "language": "python"
  }
 },
 "nbformat": 4,
 "nbformat_minor": 2,
 "cells": [
  {
   "source": [
    "# Python - Funciones\n",
    "*Sofía García Salas*\n",
    "\n",
    "*2021-02-21*\n",
    "\n",
    "***"
   ],
   "cell_type": "markdown",
   "metadata": {}
  },
  {
   "source": [
    "## Contenido\n",
    "\n",
    "* Funciones en Python\n",
    "* Parámetros posicionales\n",
    "* Parámetros nombrados\n",
    "* Retorno de múltiples valores\n",
    "* Funciones como objetos y como parámetros de otras funciones\n",
    "* Funciones anónimas o lambda"
   ],
   "cell_type": "markdown",
   "metadata": {}
  },
  {
   "source": [
    "<a id='funciones-en-python'></a>\n",
    "## Funciones en Python\n",
    "\n",
    "Un función es un bloque de código independiente que se utiliza para ejecutar una tarea de forma repetitiva. Para utilizar una función solo es necesario saber qué parámetros toma y qué valores devuelve.\n",
    "\n",
    "En Python las funciones se definen de la siguiente forma (como todo en Python es muy importante tomar en cuenta la identación):\n",
    "\n",
    "``` python\n",
    "def nombre_funcion(parametro_1, parametro_2, parametro_n)\n",
    "    <codigo a ejecutar>\n",
    "```\n",
    "\n",
    "Por ejemplo:"
   ],
   "cell_type": "markdown",
   "metadata": {}
  },
  {
   "cell_type": "code",
   "execution_count": 3,
   "metadata": {},
   "outputs": [],
   "source": [
    "def saludar(nombre):\n",
    "    print(\"Hola\", nombre) \n",
    "\n"
   ]
  },
  {
   "source": [
    "La ejecución de la función se hace de la siguiente forma:"
   ],
   "cell_type": "markdown",
   "metadata": {}
  },
  {
   "cell_type": "code",
   "execution_count": 4,
   "metadata": {},
   "outputs": [
    {
     "output_type": "stream",
     "name": "stdout",
     "text": [
      "Hola Sofi\n"
     ]
    }
   ],
   "source": [
    "saludar(\"Sofi\")"
   ]
  },
  {
   "source": [
    "<a id='parámetros-posicionales'></a>\n",
    "## Parámetros posicionales\n",
    "\n",
    "Al ejecutar una funcion, el usuario puede ingresar argumentos separados por coma. Estos argumentos se van asignando a los parámetros de la función en el orden que aparecen. El usuario tiene que velar de ingresar todos los argumentos en el orden correcto y segun el tipo de dato que necesita el parámetro.\n",
    "\n",
    "Por ejemplo:"
   ],
   "cell_type": "markdown",
   "metadata": {}
  },
  {
   "cell_type": "code",
   "execution_count": 6,
   "metadata": {},
   "outputs": [
    {
     "output_type": "execute_result",
     "data": {
      "text/plain": [
       "7.5"
      ]
     },
     "metadata": {},
     "execution_count": 6
    }
   ],
   "source": [
    "def calcular_area_triangulo(base, altura):\n",
    "    return base * altura / 2\n",
    "\n",
    "calcular_area_triangulo(3, 5)"
   ]
  },
  {
   "source": [
    "En el ejemplo anterior, el argumento 2 fue asignado al parámetro `base` y el argumento 5 fue asignado al parámetro `altura`."
   ],
   "cell_type": "markdown",
   "metadata": {}
  },
  {
   "source": [
    "<a id='parámetros-nombrados'></a>\n",
    "## Parámetros nombrados\n",
    "Para tener mayor flexibilidad a la hora de ingresar argumentos, se pueden utilizar argumentos nombrados. Estos argumentos nombrados deben utilizar el nombre de un parámetro, seguido por el signo igual y el valor que se quiere asignar al argumento. Al hacer esto, ya no es necesario ingresar los argumentos en el mismo orden que los parámetros de la función.\n",
    "\n",
    "Por ejemplo:"
   ],
   "cell_type": "markdown",
   "metadata": {}
  },
  {
   "cell_type": "code",
   "execution_count": 7,
   "metadata": {},
   "outputs": [
    {
     "output_type": "execute_result",
     "data": {
      "text/plain": [
       "7.5"
      ]
     },
     "metadata": {},
     "execution_count": 7
    }
   ],
   "source": [
    "calcular_area_triangulo(altura = 5, base = 3)"
   ]
  },
  {
   "source": [
    "<a id='retorno-de-multiples-valores'></a>\n",
    "## Retorno de múltiples valores\n",
    "Para poder retornar múltiples valores con una función es necesario utilizar una estructura de datos como una lista, una tupla o un diccionario.\n",
    "\n",
    "Por ejemplo:"
   ],
   "cell_type": "markdown",
   "metadata": {}
  },
  {
   "cell_type": "code",
   "execution_count": 8,
   "metadata": {},
   "outputs": [
    {
     "output_type": "stream",
     "name": "stdout",
     "text": [
      "('Python for Data Analysis', 'Wes McKinney')\n"
     ]
    }
   ],
   "source": [
    "def libro(titulo, autor):\n",
    "    return (titulo, autor)\n",
    "\n",
    "print(libro(\"Python for Data Analysis\", \"Wes McKinney\"))"
   ]
  },
  {
   "source": [
    "## Funciones como objetos y como parámetros de otras funciones\n",
    "\n",
    "En Python las funciones son objectos. Esto quiere decir que las funciones se pueden asignar a variables y se pueden utilizar como argumentos de otras funciones.\n",
    "\n",
    "Por ejemplo:"
   ],
   "cell_type": "markdown",
   "metadata": {}
  },
  {
   "cell_type": "code",
   "execution_count": 15,
   "metadata": {},
   "outputs": [
    {
     "output_type": "execute_result",
     "data": {
      "text/plain": [
       "40.0"
      ]
     },
     "metadata": {},
     "execution_count": 15
    }
   ],
   "source": [
    "def conversion_moneda(monto, tipo_cambio):\n",
    "    return monto / tipo_cambio\n",
    "\n",
    "conversion_moneda(800,20)"
   ]
  },
  {
   "source": [
    "Se puede asignar una función a una variable y llamar esa nueva variable como una función."
   ],
   "cell_type": "markdown",
   "metadata": {}
  },
  {
   "cell_type": "code",
   "execution_count": 14,
   "metadata": {},
   "outputs": [
    {
     "output_type": "execute_result",
     "data": {
      "text/plain": [
       "100.0"
      ]
     },
     "metadata": {},
     "execution_count": 14
    }
   ],
   "source": [
    "quetzalizar = conversion_moneda\n",
    "quetzalizar(800, 8)"
   ]
  },
  {
   "source": [
    "Se puede utilizar una función como un parámetro"
   ],
   "cell_type": "markdown",
   "metadata": {}
  },
  {
   "cell_type": "code",
   "execution_count": 20,
   "metadata": {},
   "outputs": [
    {
     "output_type": "execute_result",
     "data": {
      "text/plain": [
       "800.0"
      ]
     },
     "metadata": {},
     "execution_count": 20
    }
   ],
   "source": [
    "def dolarizar(func):\n",
    "    tc_dolar = 1 / 8\n",
    "\n",
    "    return func(100, tc_dolar)\n",
    "\n",
    "dolarizar(quetzalizar)"
   ]
  },
  {
   "source": [
    "## Funciones Anónimas o Lambdas\n",
    "La palabra clave Lambda se utiliza para crear funciones de una sola expresión. A estar funciones no se les necesita asignar un nombre para llamarlas, por eso reciben el nombre de funciones anónimas. Para lambdas, la expresión `return` está implícita.\n",
    "\n",
    "Se puede replicar la función de conversión de moneda en una sola línea:"
   ],
   "cell_type": "markdown",
   "metadata": {}
  },
  {
   "cell_type": "code",
   "execution_count": 22,
   "metadata": {},
   "outputs": [
    {
     "output_type": "execute_result",
     "data": {
      "text/plain": [
       "40.0"
      ]
     },
     "metadata": {},
     "execution_count": 22
    }
   ],
   "source": [
    "(lambda monto, tipo_cambio: monto / tipo_cambio)(800, 20)"
   ]
  },
  {
   "source": [
    "## Referencias\n",
    "1. Sturtz, John. “Defining Your Own Python Function.” Real Python, Real Python, 9 Mar. 2020, [realpython.com/defining-your-own-python-function/](https://realpython.com/defining-your-own-python-function/). \n",
    "2. Haddad, Amy. “Python Return Multiple Values – How to Return a Tuple, List, or Dictionary.” FreeCodeCamp.org, FreeCodeCamp.org, 20 July 2020, ´[www.freecodecamp.org/news/python-returns-multiple-values-how-to-return-a-tuple-list-dictionary/](https://www.freecodecamp.org/news/python-returns-multiple-values-how-to-return-a-tuple-list-dictionary/). \n",
    "3. Bader, Dan. “Python's Functions Are First-Class.” Dbader.org, Dan Bader Python Training, 21 Mar. 2017, [dbader.org/blog/python-first-class-functions](https://dbader.org/blog/python-first-class-functions). \n",
    "4. Bader, Dan. “Lambda Functions in Python: What Are They Good For?” Dbader.org, Dan Bader Python Training, 7 Feb. 2017, [dbader.org/blog/python-lambda-functions](https://dbader.org/blog/python-lambda-functions). "
   ],
   "cell_type": "markdown",
   "metadata": {}
  }
 ]
}