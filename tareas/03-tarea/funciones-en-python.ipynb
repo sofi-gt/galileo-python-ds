{
 "metadata": {
  "language_info": {
   "codemirror_mode": {
    "name": "ipython",
    "version": 3
   },
   "file_extension": ".py",
   "mimetype": "text/x-python",
   "name": "python",
   "nbconvert_exporter": "python",
   "pygments_lexer": "ipython3",
   "version": 3
  },
  "orig_nbformat": 2
 },
 "nbformat": 4,
 "nbformat_minor": 2,
 "cells": [
  {
   "source": [
    "# Python - Funciones\n",
    "*Sofía García Salas*\n",
    "\n",
    "*2021-02-21*\n",
    "\n",
    "***"
   ],
   "cell_type": "markdown",
   "metadata": {}
  },
  {
   "source": [
    "## Contenido\n",
    "\n",
    "* Funciones en Python\n",
    "* Parámetros posicionales\n",
    "* Parametros nombrados\n",
    "* retorno de multiples valores\n",
    "* funciones como objetos y como parametros de otras funciones\n",
    "* funciones anonimas o lambda"
   ],
   "cell_type": "markdown",
   "metadata": {}
  },
  {
   "source": [
    "## Funciones en Python\n",
    "\n",
    "Un función es un bloque de código independiente que se utiliza para ejecutar una tarea de forma repetitiva. Para utilizar una función solo es necesario saber qué argumentos toma y qué valores devuelve.\n",
    "\n",
    "En Python las funciones se definen de la siguiente forma (como todo en Python es muy importante tomar en cuenta la identación):\n",
    "\n",
    "``` python\n",
    "def nombre_funcion(parametro_1, parametro_2, parametro_n)\n",
    "    <codigo a ejecutar>\n",
    "```"
   ],
   "cell_type": "markdown",
   "metadata": {}
  },
  {
   "source": [
    "## Referencias\n",
    "1. Real Python. https://realpython.com/defining-your-own-python-function/\n"
   ],
   "cell_type": "markdown",
   "metadata": {}
  }
 ]
}