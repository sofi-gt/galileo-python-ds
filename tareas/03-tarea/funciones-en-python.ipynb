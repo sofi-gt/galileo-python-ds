{
 "metadata": {
  "language_info": {
   "codemirror_mode": {
    "name": "ipython",
    "version": 3
   },
   "file_extension": ".py",
   "mimetype": "text/x-python",
   "name": "python",
   "nbconvert_exporter": "python",
   "pygments_lexer": "ipython3",
   "version": "3.8.6-final"
  },
  "orig_nbformat": 2,
  "kernelspec": {
   "name": "python3",
   "display_name": "Python 3",
   "language": "python"
  }
 },
 "nbformat": 4,
 "nbformat_minor": 2,
 "cells": [
  {
   "source": [
    "# Python - Funciones\n",
    "*Sofía García Salas*\n",
    "\n",
    "*2021-02-21*\n",
    "\n",
    "***"
   ],
   "cell_type": "markdown",
   "metadata": {}
  },
  {
   "source": [
    "## Contenido\n",
    "\n",
    "* [Funciones en Python](#funciones-en-python)\n",
    "* [Parámetros posicionales](#parámetros-posicionales)\n",
    "* [Parámetros nombrados](#parámetros-nombrados)\n",
    "* Retorno de múltiples valores\n",
    "* funciones como objetos y como parametros de otras funciones\n",
    "* funciones anonimas o lambda"
   ],
   "cell_type": "markdown",
   "metadata": {}
  },
  {
   "source": [
    "## Funciones en Python\n",
    "\n",
    "Un función es un bloque de código independiente que se utiliza para ejecutar una tarea de forma repetitiva. Para utilizar una función solo es necesario saber qué parámetros toma y qué valores devuelve.\n",
    "\n",
    "En Python las funciones se definen de la siguiente forma (como todo en Python es muy importante tomar en cuenta la identación):\n",
    "\n",
    "``` python\n",
    "def nombre_funcion(parametro_1, parametro_2, parametro_n)\n",
    "    <codigo a ejecutar>\n",
    "```\n",
    "\n",
    "Por ejemplo:"
   ],
   "cell_type": "markdown",
   "metadata": {}
  },
  {
   "cell_type": "code",
   "execution_count": 3,
   "metadata": {},
   "outputs": [],
   "source": [
    "def saludar(nombre):\n",
    "    print(\"Hola\", nombre) \n",
    "\n"
   ]
  },
  {
   "source": [
    "La ejecución de la función se hace de la siguiente forma:"
   ],
   "cell_type": "markdown",
   "metadata": {}
  },
  {
   "cell_type": "code",
   "execution_count": 4,
   "metadata": {},
   "outputs": [
    {
     "output_type": "stream",
     "name": "stdout",
     "text": [
      "Hola Sofi\n"
     ]
    }
   ],
   "source": [
    "saludar(\"Sofi\")"
   ]
  },
  {
   "source": [
    "## Parámetros posicionales\n",
    "\n",
    "Al ejecutar una funcion, el usuario puede ingresar argumentos separados por coma. Estos argumentos se van asignando a los parámetros de la función en el orden que aparecen. El usuario tiene que velar de ingresar todos los argumentos en el orden correcto y segun el tipo de dato que necesita el parámetro.\n",
    "\n",
    "Por ejemplo:"
   ],
   "cell_type": "markdown",
   "metadata": {}
  },
  {
   "cell_type": "code",
   "execution_count": 6,
   "metadata": {},
   "outputs": [
    {
     "output_type": "execute_result",
     "data": {
      "text/plain": [
       "7.5"
      ]
     },
     "metadata": {},
     "execution_count": 6
    }
   ],
   "source": [
    "def calcular_area_triangulo(base, altura):\n",
    "    return base * altura / 2\n",
    "\n",
    "calcular_area_triangulo(3, 5)"
   ]
  },
  {
   "source": [
    "En el ejemplo anterior, el argumento 2 fue asignado al parámetro `base` y el argumento 5 fue asignado al parámetro `altura`."
   ],
   "cell_type": "markdown",
   "metadata": {}
  },
  {
   "source": [
    "## Parámetros nombrados\n",
    "Para tener mayor flexibilidad a la hora de ingresar argumentos, se pueden utilizar argumentos nombrados. Estos argumentos nombrados deben utilizar el nombre de un parámetro, seguido por el signo igual y el valor que se quiere asignar al argumento. Al hacer esto, ya no es necesario ingresar los argumentos en el mismo orden que los parámetros de la función.\n",
    "\n",
    "Por ejemplo:"
   ],
   "cell_type": "markdown",
   "metadata": {}
  },
  {
   "cell_type": "code",
   "execution_count": 7,
   "metadata": {},
   "outputs": [
    {
     "output_type": "execute_result",
     "data": {
      "text/plain": [
       "7.5"
      ]
     },
     "metadata": {},
     "execution_count": 7
    }
   ],
   "source": [
    "calcular_area_triangulo(altura = 5, base = 3)"
   ]
  },
  {
   "source": [
    "## Referencias\n",
    "1. Real Python. https://realpython.com/defining-your-own-python-function/\n",
    "2. Triángulo. https://es.wikipedia.org/wiki/Tri%C3%A1ngulo\n"
   ],
   "cell_type": "markdown",
   "metadata": {}
  }
 ]
}